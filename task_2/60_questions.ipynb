{
 "cells": [
  {
   "cell_type": "markdown",
   "id": "759d04ba",
   "metadata": {},
   "source": [
    "**1-Write a Python program to calculate the length of a string using 2 ways"
   ]
  },
  {
   "cell_type": "code",
   "execution_count": 137,
   "id": "e434c950",
   "metadata": {},
   "outputs": [
    {
     "name": "stdout",
     "output_type": "stream",
     "text": [
      "Enter your name please:Hagar\n",
      "Hagar\n",
      "length of name= 5\n"
     ]
    }
   ],
   "source": [
    "name=input('Enter your name please:')\n",
    "print(name)\n",
    "print('length of name=',len(name))\n",
    "\n"
   ]
  },
  {
   "cell_type": "code",
   "execution_count": 5,
   "id": "7a2dfa32",
   "metadata": {},
   "outputs": [
    {
     "name": "stdout",
     "output_type": "stream",
     "text": [
      "Enter your name please:hagar\n",
      "hagar\n",
      "length of name= 5\n"
     ]
    }
   ],
   "source": [
    "name=input('Enter your name please:')\n",
    "print(name)\n",
    "n=0\n",
    "for i in name:\n",
    "    n=n+1\n",
    "print('length of name=',n)\n"
   ]
  },
  {
   "cell_type": "markdown",
   "id": "d7cc9da7",
   "metadata": {},
   "source": [
    "**2-Write a Python program to get a string made of the first 2 and last 2 characters of a given string. If the string length is less than 2, return the empty string instead (\"##Sample String : 'w3resource'\n",
    "Expected Result : 'w3ce'\n",
    "##Sample String : 'w3'\n",
    "Expected Result : 'w3w3'\n",
    "##Sample String : ' w'\n",
    "Expected Result : Empty String)"
   ]
  },
  {
   "cell_type": "code",
   "execution_count": 10,
   "id": "dafa9dd8",
   "metadata": {},
   "outputs": [
    {
     "name": "stdout",
     "output_type": "stream",
     "text": [
      "Enter a Random word..cvbnm,.\n",
      "your Expected output= cv,.\n"
     ]
    }
   ],
   "source": [
    "name=input('Enter a Random word=')\n",
    "if len(name)<2:\n",
    "    print(\"\")\n",
    "else:\n",
    "    print('your Expected output=',name[0]+name[1]+name[-2]+name[-1])"
   ]
  },
  {
   "cell_type": "markdown",
   "id": "1534f956",
   "metadata": {},
   "source": [
    "**3-Write a Python program to add 'ing' at the end of a given string (length should be at least 3). If the given string already ends with 'ing', add 'ly' instead. If the string length of the given string is less than 3, leave it unchanged. (Sample String : 'abc'\n",
    "Expected Result : 'abcing')"
   ]
  },
  {
   "cell_type": "code",
   "execution_count": 14,
   "id": "7ff8cec4",
   "metadata": {},
   "outputs": [
    {
     "name": "stdout",
     "output_type": "stream",
     "text": [
      "Enter a Random word=rg\n",
      " \n",
      "rg\n"
     ]
    }
   ],
   "source": [
    "name=input('Enter a Random word=')\n",
    "print(\" \")\n",
    "if len(name)<3:\n",
    "    print(name)\n",
    "else:\n",
    "    last=name[-3]+name[-2]+name[-1]\n",
    "    if last=='ing':\n",
    "        print(name+'ly')\n",
    "    else:\n",
    "        print(name+'ing')\n"
   ]
  },
  {
   "cell_type": "markdown",
   "id": "1c0a6627",
   "metadata": {},
   "source": [
    "**4-Write a Python function that takes a list of words and return the longest word and the length of the longest one\n",
    "(Longest word: Exercises\n",
    "Length of the longest word: 9)"
   ]
  },
  {
   "cell_type": "code",
   "execution_count": 7,
   "id": "397341d9",
   "metadata": {},
   "outputs": [],
   "source": [
    "l=['hagar','mohamed','mahmoud','funny','college','engineering']\n",
    "def returnword():\n",
    "    count=0\n",
    "    maxword=None\n",
    "    \n",
    "    for word in l:\n",
    "        if len (word) > count:\n",
    "            maxword=word\n",
    "            count=len (word)\n",
    "    return count,maxword\n"
   ]
  },
  {
   "cell_type": "code",
   "execution_count": 8,
   "id": "6d71837f",
   "metadata": {},
   "outputs": [
    {
     "data": {
      "text/plain": [
       "(11, 'engineering')"
      ]
     },
     "execution_count": 8,
     "metadata": {},
     "output_type": "execute_result"
    }
   ],
   "source": [
    "returnword()"
   ]
  },
  {
   "cell_type": "markdown",
   "id": "53a03a6a",
   "metadata": {},
   "source": [
    "**5-Write a Python program to change a given string to a newly string where the first and last chars have been exchanged using 2 ways (Sample String:abca  Expected Result:ebce)"
   ]
  },
  {
   "cell_type": "code",
   "execution_count": 139,
   "id": "fd327d2a",
   "metadata": {},
   "outputs": [
    {
     "name": "stdout",
     "output_type": "stream",
     "text": [
      "Enter a Random word=hagar\n",
      " \n",
      "ragah\n"
     ]
    }
   ],
   "source": [
    "name=input('Enter a Random word=')\n",
    "print(\" \")      \n",
    "print(name[-1:] + name[1:-1] + name[:1])"
   ]
  },
  {
   "cell_type": "code",
   "execution_count": 155,
   "id": "285788b4",
   "metadata": {},
   "outputs": [
    {
     "name": "stdout",
     "output_type": "stream",
     "text": [
      "Enter a Random word=hagar\n",
      "ragah\n"
     ]
    }
   ],
   "source": [
    "#second method\n",
    "name=input('Enter a Random word=')  \n",
    "a=name[0]\n",
    "b=name[-1]\n",
    "print(b+name[1:-1]+a)\n",
    "\n",
    "\n",
    "   "
   ]
  },
  {
   "cell_type": "markdown",
   "id": "25f89808",
   "metadata": {},
   "source": [
    "**6-Write a Python program to remove characters that have odd index values in a given string (Sample String:abca Expected Result:ac)"
   ]
  },
  {
   "cell_type": "code",
   "execution_count": 2,
   "id": "05959bd7",
   "metadata": {},
   "outputs": [
    {
     "name": "stdout",
     "output_type": "stream",
     "text": [
      "Enter a Random word=hagar\n",
      " \n",
      "hgr\n"
     ]
    }
   ],
   "source": [
    "name=input('Enter a Random word=')\n",
    "print(\" \")\n",
    "print(name[0: :2])"
   ]
  },
  {
   "cell_type": "markdown",
   "id": "eb16e898",
   "metadata": {},
   "source": [
    "**7-Write a Python program to count the occurrences of each word in a given sentence (Sample String:amr and ahmed are frindes but amr is the tallest Expected Result:2)"
   ]
  },
  {
   "cell_type": "code",
   "execution_count": 11,
   "id": "01ce6cf5",
   "metadata": {},
   "outputs": [
    {
     "name": "stdout",
     "output_type": "stream",
     "text": [
      "hagar 1\n",
      "went 1\n",
      "to 1\n",
      "the 3\n",
      "college 1\n",
      "at 2\n",
      "the 3\n",
      "morning 1\n",
      "and 1\n",
      "get 1\n",
      "back 1\n",
      "at 2\n",
      "the 3\n",
      "evening 1\n"
     ]
    }
   ],
   "source": [
    "sent=\"hagar went to the college at the morning and get back at the evening\"\n",
    "word=sent.split()\n",
    "for i in word:\n",
    "    print(i,word.count(i))\n",
    "\n",
    "\n"
   ]
  },
  {
   "cell_type": "markdown",
   "id": "4e8125f1",
   "metadata": {},
   "source": [
    "**8-Write a Python script that takes input from the user and displays that input back in upper and lower cases"
   ]
  },
  {
   "cell_type": "code",
   "execution_count": 24,
   "id": "66c8f778",
   "metadata": {},
   "outputs": [
    {
     "name": "stdout",
     "output_type": "stream",
     "text": [
      "enter an input=hagar\n",
      "HAGAR hagar\n"
     ]
    }
   ],
   "source": [
    "words=input(\"enter an input=\")\n",
    "upperr=words.upper()\n",
    "lowerr=words.lower()\n",
    "print(upperr,lowerr)"
   ]
  },
  {
   "cell_type": "markdown",
   "id": "fcd68aa1",
   "metadata": {},
   "source": [
    "**9-Write a Python function to reverse a string if its length is a multiple of 4"
   ]
  },
  {
   "cell_type": "code",
   "execution_count": 25,
   "id": "0671a931",
   "metadata": {},
   "outputs": [
    {
     "name": "stdout",
     "output_type": "stream",
     "text": [
      "enter an input=\n",
      "  @media print {\n",
      "    .ms-editor-squiggles-container {\n",
      "      display:none !important;\n",
      "    }\n",
      "  }\n",
      "  .ms-editor-squiggles-container {\n",
      "    all: initial;\n",
      "  }hagarrrr\n",
      "rrrragah\n"
     ]
    }
   ],
   "source": [
    "word=input(\"enter an input=\")\n",
    "if len(word)%4==0 :\n",
    "    print(word[::-1])\n",
    "else:\n",
    "    print(word)"
   ]
  },
  {
   "cell_type": "markdown",
   "id": "b577c68d",
   "metadata": {},
   "source": [
    "**10- Write a Python program to remove a newline in Python"
   ]
  },
  {
   "cell_type": "code",
   "execution_count": 31,
   "id": "e0c6525a",
   "metadata": {},
   "outputs": [
    {
     "data": {
      "text/plain": [
       "'hagar mohamed mahmoud'"
      ]
     },
     "execution_count": 31,
     "metadata": {},
     "output_type": "execute_result"
    }
   ],
   "source": [
    "name='''hagar\n",
    "mohamed\n",
    "mahmoud'''\n",
    "\n",
    "name.replace('\\n',\" \")\n"
   ]
  },
  {
   "cell_type": "markdown",
   "id": "80db5ae0",
   "metadata": {},
   "source": [
    "**11-Write a Python program to check whether a string starts with specified characters"
   ]
  },
  {
   "cell_type": "code",
   "execution_count": 34,
   "id": "0cc4e03e",
   "metadata": {},
   "outputs": [
    {
     "name": "stdout",
     "output_type": "stream",
     "text": [
      "enter your name=hagar\n",
      "done\n"
     ]
    }
   ],
   "source": [
    "name=input('enter your name=')\n",
    "if name[0]=='h':\n",
    "    print('done')\n",
    "else:\n",
    "    print('does not start with h')"
   ]
  },
  {
   "cell_type": "markdown",
   "id": "593a68db",
   "metadata": {},
   "source": [
    "**12- Write a Python program to add prefix text to all of the lines in a string"
   ]
  },
  {
   "cell_type": "code",
   "execution_count": 14,
   "id": "d2e46ada",
   "metadata": {},
   "outputs": [
    {
     "data": {
      "text/plain": [
       "['name:hagar', 'name:mohamed', 'name:mahmoud']"
      ]
     },
     "execution_count": 14,
     "metadata": {},
     "output_type": "execute_result"
    }
   ],
   "source": [
    "st='''hagar\n",
    "mohamed\n",
    "mahmoud'''\n",
    "lines=st.splitlines()\n",
    "\n",
    "new=['name:'+line for line in lines]\n",
    "new\n"
   ]
  },
  {
   "cell_type": "markdown",
   "id": "86fa1543",
   "metadata": {},
   "source": [
    "**13-Write a Python program to print the following numbers up to 2 decimal places"
   ]
  },
  {
   "cell_type": "code",
   "execution_count": 20,
   "id": "cd4a9d89",
   "metadata": {},
   "outputs": [
    {
     "name": "stdout",
     "output_type": "stream",
     "text": [
      "enter a fraction number:5.025568\n"
     ]
    },
    {
     "data": {
      "text/plain": [
       "5.03"
      ]
     },
     "execution_count": 20,
     "metadata": {},
     "output_type": "execute_result"
    }
   ],
   "source": [
    "num=float(input(\"enter a fraction number:\"))\n",
    "round(num,2)\n",
    "\n"
   ]
  },
  {
   "cell_type": "markdown",
   "id": "452c0ab0",
   "metadata": {},
   "source": [
    "**14-Write a Python program to print the following numbers up to 2 decimal places with a sign"
   ]
  },
  {
   "cell_type": "code",
   "execution_count": 25,
   "id": "73e82479",
   "metadata": {},
   "outputs": [
    {
     "name": "stdout",
     "output_type": "stream",
     "text": [
      "enter a fraction number:-540.6546\n",
      "Number with sign: -540.65\n"
     ]
    }
   ],
   "source": [
    "num=float(input(\"enter a fraction number:\"))\n",
    "\n",
    "print(\"Number with sign: \"+\"{:+.2f}\".format(num))"
   ]
  },
  {
   "cell_type": "markdown",
   "id": "32b1811a",
   "metadata": {},
   "source": [
    "**15-Write a Python program to display a number with a comma separator"
   ]
  },
  {
   "cell_type": "code",
   "execution_count": 26,
   "id": "f30fc0b6",
   "metadata": {},
   "outputs": [
    {
     "name": "stdout",
     "output_type": "stream",
     "text": [
      "enter a fraction number:50.25\n"
     ]
    },
    {
     "data": {
      "text/plain": [
       "'50,25'"
      ]
     },
     "execution_count": 26,
     "metadata": {},
     "output_type": "execute_result"
    }
   ],
   "source": [
    "num=input(\"enter a fraction number:\")\n",
    "num.replace('.',',')"
   ]
  },
  {
   "cell_type": "markdown",
   "id": "0477f487",
   "metadata": {},
   "source": [
    "**16-Write a Python program to reverse a string using 2 ways"
   ]
  },
  {
   "cell_type": "code",
   "execution_count": 27,
   "id": "aa8beec8",
   "metadata": {},
   "outputs": [
    {
     "name": "stdout",
     "output_type": "stream",
     "text": [
      "ragah\n"
     ]
    }
   ],
   "source": [
    "str=\"hagar\"\n",
    "print(str[::-1])"
   ]
  },
  {
   "cell_type": "code",
   "execution_count": 33,
   "id": "d92424d9",
   "metadata": {},
   "outputs": [
    {
     "data": {
      "text/plain": [
       "'ragah'"
      ]
     },
     "execution_count": 33,
     "metadata": {},
     "output_type": "execute_result"
    }
   ],
   "source": [
    "\n",
    "def reverse(s):\n",
    "    word = \"\"\n",
    "    for i in str:\n",
    "        word = i +word\n",
    "    return word\n",
    "str=\"hagar\"\n",
    "s=reverse(str)\n",
    "s\n"
   ]
  },
  {
   "cell_type": "markdown",
   "id": "5afc3166",
   "metadata": {},
   "source": [
    " **17-Write a Python program to count repeated characters in a string (hint:use dictionary)"
   ]
  },
  {
   "cell_type": "code",
   "execution_count": 38,
   "id": "515a469c",
   "metadata": {},
   "outputs": [
    {
     "data": {
      "text/plain": [
       "{'h': 2, 'a': 3, 'g': 1, 'r': 1, 'm': 2, 'o': 1, 'e': 1, 'd': 1}"
      ]
     },
     "execution_count": 38,
     "metadata": {},
     "output_type": "execute_result"
    }
   ],
   "source": [
    "sr='hagarmohamed'\n",
    "ch=[]\n",
    "for i in sr:\n",
    "    ch.append(i)\n",
    "ch\n",
    "dic=dict()\n",
    "for i in ch:\n",
    "    dic[i]=sr.count(i)\n",
    "dic"
   ]
  },
  {
   "cell_type": "markdown",
   "id": "ae14e4e5",
   "metadata": {},
   "source": [
    "**18-Write a Python program to find the first non-repeating character in a given string"
   ]
  },
  {
   "cell_type": "code",
   "execution_count": 43,
   "id": "d73778e5",
   "metadata": {},
   "outputs": [
    {
     "name": "stdout",
     "output_type": "stream",
     "text": [
      "g\n"
     ]
    }
   ],
   "source": [
    "name=\"hagarmohamed\"\n",
    "for char in name:\n",
    "    if name.count(char)==1:\n",
    "        print(char)\n",
    "        break"
   ]
  },
  {
   "cell_type": "markdown",
   "id": "3adf5669",
   "metadata": {},
   "source": [
    "**19-Write a Python program to remove spaces from a given string"
   ]
  },
  {
   "cell_type": "code",
   "execution_count": 44,
   "id": "b4f22602",
   "metadata": {},
   "outputs": [
    {
     "data": {
      "text/plain": [
       "'hagar'"
      ]
     },
     "execution_count": 44,
     "metadata": {},
     "output_type": "execute_result"
    }
   ],
   "source": [
    "name=\"h a g a r\"\n",
    "name.replace(\" \",\"\")"
   ]
  },
  {
   "cell_type": "markdown",
   "id": "734de60c",
   "metadata": {},
   "source": [
    "**20-Write a Python program to count the number of non-empty substrings of a given string"
   ]
  },
  {
   "cell_type": "code",
   "execution_count": 52,
   "id": "ef3f2274",
   "metadata": {},
   "outputs": [
    {
     "data": {
      "text/plain": [
       "15"
      ]
     },
     "execution_count": 52,
     "metadata": {},
     "output_type": "execute_result"
    }
   ],
   "source": [
    "def num_of_substrings(str): \n",
    "    str_len = len(str) \n",
    "    return int(str_len * (str_len + 1) / 2)\n",
    "\n",
    "num_of_substrings(\"hagar\")"
   ]
  },
  {
   "cell_type": "markdown",
   "id": "509998e2",
   "metadata": {},
   "source": [
    "**21-write a Python program to swap first and last element of any list."
   ]
  },
  {
   "cell_type": "code",
   "execution_count": 54,
   "id": "68692d7f",
   "metadata": {},
   "outputs": [
    {
     "data": {
      "text/plain": [
       "[7, 2, 5, 4, 8, 86, 48, 96, 5, 4, 1]"
      ]
     },
     "execution_count": 54,
     "metadata": {},
     "output_type": "execute_result"
    }
   ],
   "source": [
    "listt=[1,2,5,4,8,86,48,96,5,4,7]\n",
    "m=listt[0]\n",
    "listt[0]=listt[-1]\n",
    "listt[-1]=m\n",
    "listt"
   ]
  },
  {
   "cell_type": "markdown",
   "id": "959e0837",
   "metadata": {},
   "source": [
    "**22-Given a list in Python and provided the positions of the elements, write a program to swap the two elements in the list. (Input : List = [23, 65, 19, 90], pos1 = 1, pos2 = 3\n",
    "Output : [19, 65, 23, 90])"
   ]
  },
  {
   "cell_type": "code",
   "execution_count": 55,
   "id": "225d8c6d",
   "metadata": {},
   "outputs": [
    {
     "data": {
      "text/plain": [
       "[19, 65, 23, 90]"
      ]
     },
     "execution_count": 55,
     "metadata": {},
     "output_type": "execute_result"
    }
   ],
   "source": [
    "listt = [23, 65, 19, 90]\n",
    "m=listt[0]\n",
    "listt[0]=listt[2]\n",
    "listt[2]=m\n",
    "listt"
   ]
  },
  {
   "cell_type": "markdown",
   "id": "66fc6682",
   "metadata": {},
   "source": [
    "**23- search for the all ways to know the length of the list"
   ]
  },
  {
   "cell_type": "code",
   "execution_count": 62,
   "id": "8a9bfff7",
   "metadata": {},
   "outputs": [
    {
     "name": "stdout",
     "output_type": "stream",
     "text": [
      "4\n",
      "4\n",
      "The length of the list is: 4\n",
      "The length of the list is: 4\n",
      "4\n"
     ]
    }
   ],
   "source": [
    "listt = [23, 65, 19, 90]\n",
    "#1\n",
    "print(len(listt))\n",
    "\n",
    "#2\n",
    "count=0\n",
    "for i in listt:\n",
    "    count+=1\n",
    "print(count)\n",
    "\n",
    "#3\n",
    "def count_elements_recursion(listt):\n",
    "    if not listt:\n",
    "        return 0\n",
    "    # Recursive case: add 1 to the count of the remaining elements in the list\n",
    "    return 1 + count_elements_recursion(listt[1:])\n",
    "\n",
    "print(\"The length of the list is:\", count_elements_recursion(listt))\n",
    "\n",
    "#4\n",
    "length = sum(1 for i in listt)\n",
    "print(\"The length of the list is:\", length)\n",
    "\n",
    "#5\n",
    "from operator import length_hint\n",
    "print(length_hint(listt))"
   ]
  },
  {
   "cell_type": "code",
   "execution_count": null,
   "id": "63ff8b43",
   "metadata": {},
   "outputs": [],
   "source": [
    "**24-write a Python code to find the Maximum number of list of numbers."
   ]
  },
  {
   "cell_type": "code",
   "execution_count": 66,
   "id": "15f342de",
   "metadata": {},
   "outputs": [
    {
     "name": "stdout",
     "output_type": "stream",
     "text": [
      "max is: 500\n"
     ]
    }
   ],
   "source": [
    "lst=[5,48,77,41,100,125,500,20]\n",
    "maxm = lst[0]\n",
    "for i in lst:\n",
    "    if i > maxm:\n",
    "            maxm = i\n",
    "print(\"max is:\",maxm)"
   ]
  },
  {
   "cell_type": "code",
   "execution_count": null,
   "id": "1a89b9d3",
   "metadata": {},
   "outputs": [],
   "source": [
    "**25-write a Python code to find the Minimum number of list of numbers."
   ]
  },
  {
   "cell_type": "code",
   "execution_count": 68,
   "id": "21f8cbd6",
   "metadata": {},
   "outputs": [
    {
     "name": "stdout",
     "output_type": "stream",
     "text": [
      "min is: 1\n"
     ]
    }
   ],
   "source": [
    "lst=[5,48,77,41,1,100,125,500,20]\n",
    "minm = lst[0]\n",
    "for i in lst:\n",
    "    if i < minm:\n",
    "            minm = i\n",
    "print(\"min is:\",minm)"
   ]
  },
  {
   "cell_type": "markdown",
   "id": "96822d96",
   "metadata": {},
   "source": [
    "**26-search for if an elem is existing in list"
   ]
  },
  {
   "cell_type": "code",
   "execution_count": 85,
   "id": "51ca5c9a",
   "metadata": {},
   "outputs": [
    {
     "name": "stdout",
     "output_type": "stream",
     "text": [
      "enter anumber:5\n",
      "yes it exist\n"
     ]
    }
   ],
   "source": [
    "lst=[5,48,77,41,1,100,125,500,20]\n",
    "ch=int(input('enter anumber:'))\n",
    "if ch in lst:\n",
    "    print(\"yes it exists\")\n",
    "        \n",
    "else:\n",
    "    print(\"not found\")\n",
    "        "
   ]
  },
  {
   "cell_type": "markdown",
   "id": "d9557da7",
   "metadata": {},
   "source": [
    "**27- clear python list using different ways"
   ]
  },
  {
   "cell_type": "code",
   "execution_count": 87,
   "id": "b69858a3",
   "metadata": {},
   "outputs": [
    {
     "data": {
      "text/plain": [
       "[]"
      ]
     },
     "execution_count": 87,
     "metadata": {},
     "output_type": "execute_result"
    }
   ],
   "source": [
    "lst=[5,48,77,41,1,100,125,500,20]\n",
    "del lst[ 0:len(lst) ]\n",
    "lst"
   ]
  },
  {
   "cell_type": "code",
   "execution_count": 89,
   "id": "75ff6864",
   "metadata": {},
   "outputs": [
    {
     "data": {
      "text/plain": [
       "[]"
      ]
     },
     "execution_count": 89,
     "metadata": {},
     "output_type": "execute_result"
    }
   ],
   "source": [
    "lst=[5,48,77,41,1,100,125,500,20]\n",
    "del lst[:]\n",
    "lst\n"
   ]
  },
  {
   "cell_type": "code",
   "execution_count": 90,
   "id": "63c96dfa",
   "metadata": {},
   "outputs": [
    {
     "data": {
      "text/plain": [
       "[]"
      ]
     },
     "execution_count": 90,
     "metadata": {},
     "output_type": "execute_result"
    }
   ],
   "source": [
    "lst=[5,48,77,41,1,100,125,500,20]\n",
    "lst *= 0 \n",
    "lst\n"
   ]
  },
  {
   "cell_type": "code",
   "execution_count": 91,
   "id": "83f8ed44",
   "metadata": {},
   "outputs": [
    {
     "data": {
      "text/plain": [
       "[]"
      ]
     },
     "execution_count": 91,
     "metadata": {},
     "output_type": "execute_result"
    }
   ],
   "source": [
    "lst=[5,48,77,41,1,100,125,500,20]\n",
    "lst[:] = []\n",
    "lst\n"
   ]
  },
  {
   "cell_type": "markdown",
   "id": "52160e88",
   "metadata": {},
   "source": [
    "**28-remove duplicated elements from a list"
   ]
  },
  {
   "cell_type": "code",
   "execution_count": 93,
   "id": "5e362228",
   "metadata": {},
   "outputs": [
    {
     "name": "stdout",
     "output_type": "stream",
     "text": [
      "List after removing duplicate elements:  [1, 2, 4, 5]\n"
     ]
    }
   ],
   "source": [
    "lst = [1, 2, 4, 2, 1, 4, 5]\n",
    "lst\n",
    "new = [*set(lst)]\n",
    "print(\"List after removing duplicate elements: \", new)"
   ]
  },
  {
   "cell_type": "markdown",
   "id": "282337f7",
   "metadata": {},
   "source": [
    "**29-Given list values and keys list, convert these values to key value pairs in form of list of dictionaries. (Input : test_list = [“Gfg”, 3, “is”, 8], key_list = [“name”, “id”]\n",
    "Output : [{‘name’: ‘Gfg’, ‘id’: 3}, {‘name’: ‘is’, ‘id’: 8}])"
   ]
  },
  {
   "cell_type": "code",
   "execution_count": 172,
   "id": "4d4e2d28",
   "metadata": {},
   "outputs": [
    {
     "name": "stdout",
     "output_type": "stream",
     "text": [
      "The output list :  [{'name': 'Gfg', 'id': 3}, {'name': 'is', 'id': 8}]\n"
     ]
    }
   ],
   "source": [
    "\n",
    "test_list = [\"Gfg\", 3, \"is\", 8]\n",
    "\n",
    "key_list = [\"name\", \"id\"]\n",
    "\n",
    "n = len(test_list)\n",
    "\n",
    "new = [{key_list[0]: test_list[idx], key_list[1]: test_list[idx+ 1]} for idx in range(0, n, 2)]\n",
    "\n",
    "print(\"The output list : \" ,new)  "
   ]
  },
  {
   "cell_type": "markdown",
   "id": "c26b6e9f",
   "metadata": {},
   "source": [
    "**30-write a python program to count unique values inside a list using different ways"
   ]
  },
  {
   "cell_type": "code",
   "execution_count": 180,
   "id": "72132667",
   "metadata": {},
   "outputs": [
    {
     "name": "stdout",
     "output_type": "stream",
     "text": [
      "7\n",
      "7\n",
      "7\n",
      "7\n"
     ]
    }
   ],
   "source": [
    "#1\n",
    "lst = [1,2,3,1,4,5,1,2,8,3,3,6,5,2,4,1]\n",
    "print(len(set(lst)))\n",
    "\n",
    "#2\n",
    "from collections import Counter\n",
    "count = Counter(lst)\n",
    "keys = count.keys()\n",
    "print (len(keys)) \n",
    "\n",
    "#3\n",
    "from collections import Counter\n",
    "print (len(Counter(lst).keys()))\n",
    "\n",
    "#4\n",
    "sett = set(lst)\n",
    "print( len(sett))\n",
    "\n",
    "\n"
   ]
  },
  {
   "cell_type": "markdown",
   "id": "fed6677c",
   "metadata": {},
   "source": [
    "**31-write a python program Extract all elements with Frequency greater than K (Input : test_list = [4, 6, 4, 3, 3, 4, 3, 4, 3, 8], K = 3 \n",
    "Output : [4, 3] )"
   ]
  },
  {
   "cell_type": "code",
   "execution_count": 16,
   "id": "d81f3f9d",
   "metadata": {},
   "outputs": [
    {
     "data": {
      "text/plain": [
       "[4, 3]"
      ]
     },
     "execution_count": 16,
     "metadata": {},
     "output_type": "execute_result"
    }
   ],
   "source": [
    "test_list = [4, 6, 4, 3, 3, 4, 3, 4, 3, 8]\n",
    "K = 3 \n",
    "lst=[]\n",
    "for i in test_list : \n",
    "    if test_list.count(i)>K and i not in lst:\n",
    "        lst.append(i)\n",
    "        \n",
    "lst\n",
    "    \n",
    "   "
   ]
  },
  {
   "cell_type": "markdown",
   "id": "caca5224",
   "metadata": {},
   "source": [
    "**32-write a python program to find the Strongest Neighbour (Input: 1 2 2 3 4 5\n",
    "Output: 2 2 3 4 5)"
   ]
  },
  {
   "cell_type": "code",
   "execution_count": 40,
   "id": "50746347",
   "metadata": {},
   "outputs": [
    {
     "name": "stdout",
     "output_type": "stream",
     "text": [
      "9\n",
      "8\n",
      "hv\n",
      "h\n",
      "h\n",
      "h\n",
      "h\n",
      "h\n",
      "h\n",
      "h\n"
     ]
    },
    {
     "data": {
      "text/plain": [
       "[2, 2, 3, 4, 5, 6, 7, 8]"
      ]
     },
     "execution_count": 40,
     "metadata": {},
     "output_type": "execute_result"
    }
   ],
   "source": [
    "inpt= [2,1,3,4,5,2,7,8,8]*********************************************\n",
    "lst=[]\n",
    "k=1\n",
    "n=len(inpt)\n",
    "print(n)\n",
    "\n",
    "n=n-1\n",
    "print(n)\n",
    "\n",
    "for i in inpt : \n",
    "    if k<=n:\n",
    "        if inpt[k]>=inpt[i] :\n",
    "            print(\"h\")\n",
    "            lst.append(k)\n",
    "        else:\n",
    "            print(\"hv\")\n",
    "            lst.append(i)\n",
    "        k+=1\n",
    "\n",
    "lst"
   ]
  },
  {
   "cell_type": "markdown",
   "id": "a9fa8baf",
   "metadata": {},
   "source": [
    "**33-write a Python Program to print all Possible Combinations from the three Digits (Input: [1, 2, 3]\n",
    "Output:\n",
    "1 2 3 ##\n",
    "1 3 2 ##\n",
    "2 1 3 ##\n",
    "2 3 1 ##\n",
    "3 1 2 ##\n",
    "3 2 1)"
   ]
  },
  {
   "cell_type": "code",
   "execution_count": 42,
   "id": "8c520a76",
   "metadata": {},
   "outputs": [
    {
     "name": "stdout",
     "output_type": "stream",
     "text": [
      "1 2 3\n",
      "1 3 2\n",
      "2 1 3\n",
      "2 3 1\n",
      "3 1 2\n",
      "3 2 1\n"
     ]
    }
   ],
   "source": [
    "lst=[1,2,3]\n",
    "o=len(lst)\n",
    "for i in range(o):\n",
    "        for j in range(o):\n",
    "            for k in range(o):\n",
    "                  \n",
    "\n",
    "                if (i!=j and j!=k and i!=k):\n",
    "                    print(lst[i], lst[j],lst[k])"
   ]
  },
  {
   "cell_type": "markdown",
   "id": "5288bb89",
   "metadata": {},
   "source": [
    "**34-write a Python program to find all the Combinations in the list with the given condition (Input: test_list = [1,2,3] \n",
    "Output: \n",
    " [1], [1, 2], [1, 2, 3], [1, 3]\n",
    " [2], [2, 3], [3])"
   ]
  },
  {
   "cell_type": "code",
   "execution_count": 185,
   "id": "59b89646",
   "metadata": {},
   "outputs": [
    {
     "name": "stdout",
     "output_type": "stream",
     "text": [
      "[(), (1,), (2,), (3,), (1, 2), (1, 3), (2, 3), (1, 2, 3)]\n"
     ]
    }
   ],
   "source": [
    "from itertools import combinations\n",
    "\n",
    "test_list = [1,2,3]\n",
    "list_combinations = list()\n",
    "\n",
    "for n in range(len(test_list) + 1):\n",
    "    list_combinations += list(combinations(test_list, n))\n",
    "\n",
    "print(list_combinations)\n"
   ]
  },
  {
   "cell_type": "markdown",
   "id": "39973705",
   "metadata": {},
   "source": [
    "**35-write a Python program to get all unique combinations of two Lists (List_1 = [\"a\",\"b\"]\n",
    "List_2 = [1,2]\n",
    "Unique_combination = [[('a',1),('b',2)],[('a',2),('b',1)]] )"
   ]
  },
  {
   "cell_type": "code",
   "execution_count": 49,
   "id": "8c4ba22b",
   "metadata": {},
   "outputs": [
    {
     "name": "stdout",
     "output_type": "stream",
     "text": [
      "[]\n"
     ]
    }
   ],
   "source": [
    "import itertools\n",
    "from itertools import permutations\n",
    " \n",
    "\n",
    "lst_1 = [\"a\", \"b\"]\n",
    "lst_2 = [1,2]\n",
    " \n",
    "cmbined = []\n",
    " \n",
    "permut = itertools.permutations(lst_1, len(lst_2))\n",
    " \n",
    "# zip() is called to pair each permutation\n",
    "# and shorter list element into combination\n",
    "for comb in permut:\n",
    "    zipped = zip(comb, lst_2)\n",
    "    cmbined.append(list(zipped))\n",
    " \n",
    "print(cmbined)"
   ]
  },
  {
   "cell_type": "markdown",
   "id": "25199af5",
   "metadata": {},
   "source": [
    "**36-Remove all the occurrences of an element from a list in Python (Input : 1 1 2 3 4 5 1 2 1 \n",
    "\n",
    "**Output : 2 3 4 5 2)"
   ]
  },
  {
   "cell_type": "code",
   "execution_count": 66,
   "id": "6dc4c2ba",
   "metadata": {},
   "outputs": [
    {
     "name": "stdout",
     "output_type": "stream",
     "text": [
      "enter the element you wnat to remove=2\n",
      "2\n"
     ]
    },
    {
     "data": {
      "text/plain": [
       "[1, 1, 3, 4, 5, 1, 1]"
      ]
     },
     "execution_count": 66,
     "metadata": {},
     "output_type": "execute_result"
    }
   ],
   "source": [
    "inpt= [1, 1, 2, 3, 4, 5, 1, 2, 1]\n",
    "ch=int(input('enter the element you wnat to remove='))\n",
    "n=inpt.count(ch)\n",
    "print(n)\n",
    "\n",
    "for i in range(0,n):\n",
    "    inpt.remove(ch)\n",
    "inpt"
   ]
  },
  {
   "cell_type": "markdown",
   "id": "bf1a3c93",
   "metadata": {},
   "source": [
    "**37-write a python program to Replace index elements with elements in Other List (The original list 1 is : [‘Gfg’, ‘is’, ‘best’] The original list 2 is : [0, 1, 2, 1, 0, 0, 0, 2, 1, 1, 2, 0] The lists after index elements replacements is : [‘Gfg’, ‘is’, ‘best’, ‘is’, ‘Gfg’, ‘Gfg’, ‘Gfg’, ‘best’, ‘is’, ‘is’, ‘best’, ‘Gfg’])"
   ]
  },
  {
   "cell_type": "code",
   "execution_count": 80,
   "id": "fdd66a71",
   "metadata": {},
   "outputs": [
    {
     "name": "stdout",
     "output_type": "stream",
     "text": [
      "['Gfg', 'is', 'best', 'is', 'Gfg', 'Gfg', 'Gfg', 'best', 'is', 'is', 'best', 'Gfg']\n"
     ]
    }
   ],
   "source": [
    "lst_1 = ['Gfg', 'is', 'best']\n",
    "lst_2 = [0, 1, 2, 1, 0, 0, 0, 2, 1, 1, 2, 0]\n",
    "\n",
    "new = [lst_1[idx] for idx in lst_2]\n",
    "\n",
    "print (new)"
   ]
  },
  {
   "cell_type": "markdown",
   "id": "af0f56e8",
   "metadata": {},
   "source": [
    "**38- write python program to Retain records with N occurrences of K(Input : test_list = [(4, 5, 5, 4), (5, 4, 3)], K = 5, N = 2 \n",
    "Output : [(4, 5, 5, 4)]\n",
    "Input : test_list = [(4, 5, 5, 4), (5, 4, 3)], K = 5, N = 3 \n",
    "Output : [] )"
   ]
  },
  {
   "cell_type": "code",
   "execution_count": 84,
   "id": "67b06671",
   "metadata": {},
   "outputs": [
    {
     "name": "stdout",
     "output_type": "stream",
     "text": [
      "[(4, 5, 6, 5, 4), (4, 5, 3)]\n",
      "[(4, 5, 6, 5, 4), (5, 5, 2)]\n",
      "\n",
      "\n",
      "[(4, 5, 6, 5, 4), (4, 5, 3)]\n",
      "[]\n"
     ]
    }
   ],
   "source": [
    "lst = [(4, 5, 6, 5, 4), (4, 5, 3)]\n",
    "print(lst)\n",
    "K = 5\n",
    "N = 2\n",
    "new = [i for i in val if i.count(K) == N] \n",
    "print(new)\n",
    "\n",
    "\n",
    "print(\"\")\n",
    "print(\"\")\n",
    "\n",
    "\n",
    "lst = [(4, 5, 6, 5, 4), (4, 5, 3)]\n",
    "print(lst)\n",
    "N = 3\n",
    "new = [i for i in val if i.count(K) == N] \n",
    "print(new)"
   ]
  },
  {
   "cell_type": "markdown",
   "id": "de76f183",
   "metadata": {},
   "source": [
    "**39-write a Python Program to Sort the list according to the column using lambda\n",
    "array = [[1, 3, 3], [2, 1, 2], [3, 2, 1]]\n",
    "Output :\n",
    "Sorted array specific to column 0, [[1, 3, 3], [2, 1, 2], [3, 2, 1]]\n",
    "Sorted array specific to column 1, [[2, 1, 2], [3, 2, 1], [1, 3, 3]]\n",
    "Sorted array specific to column 2, [[3, 2, 1], [2, 1, 2], [1, 3, 3]]"
   ]
  },
  {
   "cell_type": "code",
   "execution_count": 88,
   "id": "dc883308",
   "metadata": {},
   "outputs": [
    {
     "name": "stdout",
     "output_type": "stream",
     "text": [
      "Sorted array specific to column 0, [[1, 3, 3], [2, 1, 2], [3, 2, 1]]\n",
      "Sorted array specific to column 1, [[2, 1, 2], [3, 2, 1], [1, 3, 3]]\n",
      "Sorted array specific to column 2, [[3, 2, 1], [2, 1, 2], [1, 3, 3]]\n"
     ]
    }
   ],
   "source": [
    "array = [[1, 3, 3], [2, 1, 2], [3, 2, 1]] \n",
    "\n",
    "for i in range(len(array[0])):\n",
    "    sortedcolumn = sorted(array, key = lambda x:x[i])\n",
    "    \n",
    "    print(\"Sorted array specific to column {}, {}\".format(i, sortedcolumn))"
   ]
  },
  {
   "cell_type": "code",
   "execution_count": null,
   "id": "d2e7b31f",
   "metadata": {},
   "outputs": [],
   "source": [
    "**40- write a program to Sort Python Dictionaries by Key or Value\n",
    "Input:\n",
    "{'ravi': 10, 'rajnish': 9, 'sanjeev': 15, 'yash': 2, 'suraj': 32}\n",
    "\n",
    "Output: \n",
    "{'rajnish': 9, 'ravi': 10, 'sanjeev': 15, 'suraj': 32, 'yash': 2}"
   ]
  },
  {
   "cell_type": "code",
   "execution_count": 93,
   "id": "a96db4a0",
   "metadata": {},
   "outputs": [
    {
     "name": "stdout",
     "output_type": "stream",
     "text": [
      "{'rajnish': 9, 'ravi': 10, 'sanjeev': 15, 'suraj': 32, 'yash': 2}\n"
     ]
    }
   ],
   "source": [
    "inpt = {'ravi': 10, 'rajnish': 9,'sanjeev': 15, 'yash': 2, 'suraj': 32}\n",
    "Key= list(inpt.keys())\n",
    "Key.sort()\n",
    "sorted_dic = {i: inpt[i] for i in Key}\n",
    "print(sorted_dic)\n"
   ]
  },
  {
   "cell_type": "markdown",
   "id": "ec63c23a",
   "metadata": {},
   "source": [
    "**41-write python program to Remove keys with Values Greater than K ( Including mixed values )\n",
    "nput : test_dict = {‘Gfg’ : 3, ‘is’ : 7, ‘best’ : 10, ‘for’ : 6, ‘geeks’ : ‘CS’},\n",
    "K = 7 \n",
    "Output : {‘Gfg’ : 3, ‘for’ : 6, ‘geeks’ : ‘CS’}"
   ]
  },
  {
   "cell_type": "code",
   "execution_count": 98,
   "id": "e39c3a40",
   "metadata": {},
   "outputs": [
    {
     "name": "stdout",
     "output_type": "stream",
     "text": [
      "{'Gfg': 3, 'is': 7, 'best': 10, 'for': 6, 'geeks': 'CS'}\n",
      "\n",
      "The output is :  {'Gfg': 3, 'for': 6, 'geeks': 'CS'}\n"
     ]
    }
   ],
   "source": [
    "dic = {'Gfg' : 3, 'is' : 7, 'best' : 10, 'for' : 6, 'geeks' : 'CS'}\n",
    "print(dic)\n",
    "\n",
    "K = 7\n",
    "new={}\n",
    "for key in dic:\n",
    "    if not (isinstance(dic[key], int) and dic[key] >= K):\n",
    "        new[key] = dic[key]\n",
    "\n",
    "print('')\n",
    "print(\"The output is : \", new)\n"
   ]
  },
  {
   "cell_type": "markdown",
   "id": "f143f0fe",
   "metadata": {},
   "source": [
    "**42-Write a Python program to concatenate the following dictionaries to create a new one\n",
    "\n",
    "Sample Dictionary :\n",
    "dic1={1:10, 2:20}\n",
    "dic2={3:30, 4:40}\n",
    "dic3={5:50,6:60}\n",
    "Expected Result : {1: 10, 2: 20, 3: 30, 4: 40, 5: 50, 6: 60}"
   ]
  },
  {
   "cell_type": "code",
   "execution_count": 100,
   "id": "74ffdfea",
   "metadata": {},
   "outputs": [
    {
     "name": "stdout",
     "output_type": "stream",
     "text": [
      "{1: 10, 2: 20, 3: 30, 4: 40, 5: 50, 6: 60}\n"
     ]
    }
   ],
   "source": [
    "dic1={1:10, 2:20}\n",
    "dic2={3:30, 4:40}\n",
    "dic3={5:50,6:60}\n",
    "dic4 = {}\n",
    "for i in (dic1, dic2, dic3): dic4.update(i)\n",
    "print(dic4)"
   ]
  },
  {
   "cell_type": "markdown",
   "id": "fb04c93c",
   "metadata": {},
   "source": [
    "**43-Write a Python program to iterate over dictionaries using for loops"
   ]
  },
  {
   "cell_type": "code",
   "execution_count": 103,
   "id": "6aebc470",
   "metadata": {},
   "outputs": [
    {
     "name": "stdout",
     "output_type": "stream",
     "text": [
      "hagar corresponds to  1\n",
      "mohamed corresponds to  2\n",
      "mahmoud corresponds to  3\n"
     ]
    }
   ],
   "source": [
    "dic = {'hagar': 1, 'mohamed': 2, 'mahmoud': 3} \n",
    "for name, value in dic.items():\n",
    "     print(name, 'corresponds to ', dic[name]) \n",
    "        "
   ]
  },
  {
   "cell_type": "markdown",
   "id": "5f491a9d",
   "metadata": {},
   "source": [
    "**44- Write a Python script to merge two Python dictionaries"
   ]
  },
  {
   "cell_type": "code",
   "execution_count": 95,
   "id": "b8a14028",
   "metadata": {},
   "outputs": [
    {
     "data": {
      "text/plain": [
       "{'d': 3, 'c': 4, 'a': 1, 'b': 2}"
      ]
     },
     "execution_count": 95,
     "metadata": {},
     "output_type": "execute_result"
    }
   ],
   "source": [
    "dic1 = {'a': 1, 'b': 2}\n",
    "dic2 = {'d': 3, 'c': 4}\n",
    "dic2.update(dic1)\n",
    "dic2"
   ]
  },
  {
   "cell_type": "markdown",
   "id": "216fc72d",
   "metadata": {},
   "source": [
    "**45-Write a Python program to get the maximum and minimum values of a dictionary values"
   ]
  },
  {
   "cell_type": "code",
   "execution_count": 96,
   "id": "d6883f5f",
   "metadata": {},
   "outputs": [
    {
     "name": "stdout",
     "output_type": "stream",
     "text": [
      "Maximum Value= 74\n",
      "Minimum Value= -230\n"
     ]
    }
   ],
   "source": [
    "my_dict = {'a':10, 'b':74, 'c': -230}\n",
    "\n",
    "maxm = max(my_dict.keys(), key=(lambda k: my_dict[k]))\n",
    "minm = min(my_dict.keys(), key=(lambda k: my_dict[k]))\n",
    "\n",
    "print('Maximum Value=',my_dict[maxm])\n",
    "print('Minimum Value=',my_dict[minm])"
   ]
  },
  {
   "cell_type": "markdown",
   "id": "b6a53011",
   "metadata": {},
   "source": [
    "**46- Write a Python program to drop empty items from a given dictionary.\n",
    "Original Dictionary:\n",
    "{'c1': 'Red', 'c2': 'Green', 'c3': None}\n",
    "New Dictionary after dropping empty items:\n",
    "{'c1': 'Red', 'c2': 'Green'}"
   ]
  },
  {
   "cell_type": "code",
   "execution_count": 106,
   "id": "b5c6fecf",
   "metadata": {},
   "outputs": [
    {
     "name": "stdout",
     "output_type": "stream",
     "text": [
      "Original Dictionary:\n",
      "{'c1': 'Red', 'c2': 'Green', 'c3': None}\n",
      "\n",
      "New Dictionary after dropping empty items:\n",
      "{'c1': 'Red', 'c2': 'Green'}\n"
     ]
    }
   ],
   "source": [
    "dic= {'c1': 'Red', 'c2': 'Green', 'c3':None}\n",
    "print(\"Original Dictionary:\")\n",
    "print(dic)\n",
    "\n",
    "print(\"\")\n",
    "\n",
    "print(\"New Dictionary after dropping empty items:\")\n",
    "dic= {key:value for (key, value) in dic.items() if value is not None}\n",
    "print(dic)"
   ]
  },
  {
   "cell_type": "markdown",
   "id": "46d718c7",
   "metadata": {},
   "source": [
    "**47-Write a Python program to create a tuple of numbers and print one item"
   ]
  },
  {
   "cell_type": "code",
   "execution_count": 97,
   "id": "13216ff5",
   "metadata": {},
   "outputs": [
    {
     "name": "stdout",
     "output_type": "stream",
     "text": [
      "(5, 10, 15, 20, 25)\n",
      "(5,)\n"
     ]
    }
   ],
   "source": [
    "tpl = 5, 10, 15, 20, 25\n",
    "print(tpl)\n",
    "tpl = 5,\n",
    "print(tpl)"
   ]
  },
  {
   "cell_type": "markdown",
   "id": "2be5b56b",
   "metadata": {},
   "source": [
    "**48-Write a Python program to unpack a tuple into several variables"
   ]
  },
  {
   "cell_type": "code",
   "execution_count": 107,
   "id": "595f44be",
   "metadata": {},
   "outputs": [
    {
     "name": "stdout",
     "output_type": "stream",
     "text": [
      "hagar\n",
      "21\n",
      "Engineering\n"
     ]
    }
   ],
   "source": [
    "\n",
    "a = (\"hagar\", 21, \"Engineering\")\n",
    "\n",
    "(name, age, college) = a\n",
    "print(name)\n",
    "print(age)\n",
    "print(college)\n"
   ]
  },
  {
   "cell_type": "markdown",
   "id": "392388a7",
   "metadata": {},
   "source": [
    "**49-Write a Python program to add an item to a tuple"
   ]
  },
  {
   "cell_type": "code",
   "execution_count": 98,
   "id": "54cc092e",
   "metadata": {},
   "outputs": [
    {
     "name": "stdout",
     "output_type": "stream",
     "text": [
      "(5, 10, 15, 20, 25)\n",
      "(5, 10, 15, 20, 25, 9)\n"
     ]
    }
   ],
   "source": [
    "tpl = 5, 10, 15, 20, 25\n",
    "print(tpl)\n",
    "tpl=tpl+(9,)\n",
    "print(tpl)"
   ]
  },
  {
   "cell_type": "markdown",
   "id": "3e8fd124",
   "metadata": {},
   "source": [
    "**50-Write a Python program to convert a tuple to a string"
   ]
  },
  {
   "cell_type": "code",
   "execution_count": 101,
   "id": "92a71ddc",
   "metadata": {},
   "outputs": [
    {
     "name": "stdout",
     "output_type": "stream",
     "text": [
      "5\n",
      "8\n",
      "4\n"
     ]
    }
   ],
   "source": [
    "tpl=5,8,4\n",
    "a,b,c=tpl\n",
    "print(a)\n",
    "print(b)\n",
    "print(c)\n",
    "\n"
   ]
  },
  {
   "cell_type": "markdown",
   "id": "f4f64ef4",
   "metadata": {},
   "source": [
    "**51-Write a Python program to convert a list to a tuple"
   ]
  },
  {
   "cell_type": "code",
   "execution_count": 103,
   "id": "210d56d3",
   "metadata": {},
   "outputs": [
    {
     "name": "stdout",
     "output_type": "stream",
     "text": [
      "hagar\n"
     ]
    }
   ],
   "source": [
    "tpl=\"h\",'a','g','a','r'\n",
    "name=\"\"\n",
    "for i in tpl:\n",
    "    name=name+i\n",
    "print (name)"
   ]
  },
  {
   "cell_type": "markdown",
   "id": "b1e00ef7",
   "metadata": {},
   "source": [
    "**52-Write a Python program to reverse a tuple"
   ]
  },
  {
   "cell_type": "code",
   "execution_count": 107,
   "id": "f45bfdc7",
   "metadata": {},
   "outputs": [
    {
     "data": {
      "text/plain": [
       "('r', 'a', 'g', 'a', 'h')"
      ]
     },
     "execution_count": 107,
     "metadata": {},
     "output_type": "execute_result"
    }
   ],
   "source": [
    "tpl=\"h\",'a','g','a','r'\n",
    "tpl=tpl[::-1]\n",
    "tpl"
   ]
  },
  {
   "cell_type": "markdown",
   "id": "3cd347d1",
   "metadata": {},
   "source": [
    "**53-Write a Python program to replace the last value of tuples in a list.\n",
    "Sample list: [(10, 20, 40), (40, 50, 60), (70, 80, 90)]\n",
    "Expected Output: [(10, 20, 100), (40, 50, 100), (70, 80, 100)]"
   ]
  },
  {
   "cell_type": "code",
   "execution_count": 108,
   "id": "3c4a2a4c",
   "metadata": {},
   "outputs": [
    {
     "name": "stdout",
     "output_type": "stream",
     "text": [
      "[(10, 20, 100), (40, 50, 100), (70, 80, 100)]\n"
     ]
    }
   ],
   "source": [
    "tpl=[(10, 20, 40), (40, 50, 60), (70, 80, 90)] \n",
    "print([t[:-1] + (100,) for t in tpl])"
   ]
  },
  {
   "cell_type": "markdown",
   "id": "76bb7b39",
   "metadata": {},
   "source": [
    "**54-Write a Python program to convert a given string list to a tuple\n",
    "Original string: python 3.0\n",
    "<class 'str'>\n",
    "Convert the said string to a tuple:\n",
    "('p', 'y', 't', 'h', 'o', 'n', '3', '.', '0')"
   ]
  },
  {
   "cell_type": "code",
   "execution_count": 114,
   "id": "51951937",
   "metadata": {},
   "outputs": [
    {
     "data": {
      "text/plain": [
       "('p', 'y', 't', 'h', 'o', 'n', '3', '.', '0')"
      ]
     },
     "execution_count": 114,
     "metadata": {},
     "output_type": "execute_result"
    }
   ],
   "source": [
    "name=\"python 3.0 \"\n",
    "tuple(i for i in name if not i.isspace()) \n"
   ]
  },
  {
   "cell_type": "markdown",
   "id": "5a1d5d97",
   "metadata": {},
   "source": [
    "**55-Write a Python program to calculate the average value of the numbers in a given tuple of tuples"
   ]
  },
  {
   "cell_type": "code",
   "execution_count": 116,
   "id": "834e7992",
   "metadata": {},
   "outputs": [
    {
     "name": "stdout",
     "output_type": "stream",
     "text": [
      "Original Tuple: \n",
      "((1, 4, -5), (37, -15, 26), (51, -60, -79), (-1, 2, 3))\n",
      "\n",
      "Average value of the numbers of the selected tuple:\n",
      " (22.0, -17.25, -13.75)\n"
     ]
    }
   ],
   "source": [
    "\n",
    "def average_tuple(nums):\n",
    "    result = tuple(map(lambda x: sum(x) / float(len(x)), zip(*nums)))\n",
    "    return result\n",
    "nums = ((1, 4, -5), (37, -15, 26), (51, -60, -79), (-1, 2, 3))\n",
    "print (\"Original Tuple: \")\n",
    "print(nums)\n",
    "print(\"\\nAverage value of the numbers of the selected tuple:\\n\",average_tuple(nums))\n",
    "\n",
    "\n",
    "\n"
   ]
  },
  {
   "cell_type": "markdown",
   "id": "51edab9c",
   "metadata": {},
   "source": [
    "**56-Write a Python program to add member(s) to a set."
   ]
  },
  {
   "cell_type": "code",
   "execution_count": 112,
   "id": "2b65df79",
   "metadata": {},
   "outputs": [
    {
     "name": "stdout",
     "output_type": "stream",
     "text": [
      "s= {1}\n",
      "s= {1, 3, 4}\n"
     ]
    }
   ],
   "source": [
    "s= set()\n",
    "s.add(1)\n",
    "print('s=',s)\n",
    "s.update([3,4])\n",
    "print('s=',s)"
   ]
  },
  {
   "cell_type": "markdown",
   "id": "965590cc",
   "metadata": {},
   "source": [
    "**57-Write a Python program to remove an item from a set if it is present in the set."
   ]
  },
  {
   "cell_type": "code",
   "execution_count": 125,
   "id": "866bab28",
   "metadata": {},
   "outputs": [
    {
     "name": "stdout",
     "output_type": "stream",
     "text": [
      "Original set:\n",
      "{0, 1, 2, 3, 4, 5}\n",
      "{0, 1, 2, 3, 5}\n",
      "{0, 1, 2, 3}\n"
     ]
    }
   ],
   "source": [
    "\n",
    "s = set([0, 1, 2, 3, 4, 5])\n",
    "print(\"Original set:\")\n",
    "print(s)\n",
    "\n",
    "s.discard(4)\n",
    "print(s)\n",
    "s.discard(5)\n",
    "print(s)"
   ]
  },
  {
   "cell_type": "markdown",
   "id": "2b7cfed1",
   "metadata": {},
   "source": [
    "**58-Write a Python program to create an intersection,union,difference and symmetric difference of sets"
   ]
  },
  {
   "cell_type": "code",
   "execution_count": 126,
   "id": "7f94b7fe",
   "metadata": {},
   "outputs": [
    {
     "name": "stdout",
     "output_type": "stream",
     "text": [
      "Union : {0, 1, 2, 3, 4, 5, 6, 8}\n",
      "Intersection : {2, 4}\n",
      "Difference : {0, 8, 6}\n",
      "Symmetric difference : {0, 1, 3, 5, 6, 8}\n"
     ]
    }
   ],
   "source": [
    "\n",
    "a= {0, 2, 4, 6, 8};\n",
    "b= {1, 2, 3, 4, 5};\n",
    "\n",
    "# union\n",
    "print(\"Union :\", a | b)\n",
    "\n",
    "# intersection\n",
    "print(\"Intersection :\", a & b)\n",
    "\n",
    "# difference\n",
    "print(\"Difference :\", a - b)\n",
    "\n",
    "# symmetric difference\n",
    "print(\"Symmetric difference :\", a ^ b)\n"
   ]
  },
  {
   "cell_type": "markdown",
   "id": "b94931e2",
   "metadata": {},
   "source": [
    "**59-Write a Python program to find the maximum and minimum values in a set"
   ]
  },
  {
   "cell_type": "code",
   "execution_count": 129,
   "id": "203f9600",
   "metadata": {},
   "outputs": [
    {
     "name": "stdout",
     "output_type": "stream",
     "text": [
      "505\n"
     ]
    }
   ],
   "source": [
    "def MAX(sett):\n",
    "    return (max(sett))\n",
    "\n",
    "sett = set([8, -6, 24, 1, 75, 3, 10, 65, 505])\n",
    "print(MAX(sett))\n"
   ]
  },
  {
   "cell_type": "markdown",
   "id": "255fd554",
   "metadata": {},
   "source": [
    "**60- Write a Python program that finds all pairs of elements in a list whose sum is equal to a given value."
   ]
  },
  {
   "cell_type": "code",
   "execution_count": 136,
   "id": "c2d94e1f",
   "metadata": {},
   "outputs": [
    {
     "name": "stdout",
     "output_type": "stream",
     "text": [
      "enter the value=5\n",
      "[{0, 5}, {1, 4}, {1, 4}, {1, 4}, {0, 5}, {0, 5}, {0, 5}, {0, 5}, {0, 5}, {1, 4}, {0, 5}, {0, 5}]\n"
     ]
    }
   ],
   "source": [
    "value=int(input('enter the value='))\n",
    "l=[5,4,7,8,9,6,44,1,7,5,2,0,1,2,5,8,7,5,6,56,89]\n",
    "st=[]\n",
    "for i in l:\n",
    "    for j in l:\n",
    "        if (i+j) == value:\n",
    "            st.append({i, j})\n",
    "print (st)\n",
    "            \n",
    "            \n",
    "   "
   ]
  }
 ],
 "metadata": {
  "kernelspec": {
   "display_name": "Python 3 (ipykernel)",
   "language": "python",
   "name": "python3"
  },
  "language_info": {
   "codemirror_mode": {
    "name": "ipython",
    "version": 3
   },
   "file_extension": ".py",
   "mimetype": "text/x-python",
   "name": "python",
   "nbconvert_exporter": "python",
   "pygments_lexer": "ipython3",
   "version": "3.11.3"
  },
  "widgets": {
   "application/vnd.jupyter.widget-state+json": {
    "state": {},
    "version_major": 2,
    "version_minor": 0
   }
  }
 },
 "nbformat": 4,
 "nbformat_minor": 5
}
